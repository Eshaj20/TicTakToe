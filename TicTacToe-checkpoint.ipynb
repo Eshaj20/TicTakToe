{
 "cells": [
  {
   "cell_type": "code",
   "execution_count": null,
   "id": "3bc589a7-b818-46c3-9cab-3c05d85b053e",
   "metadata": {},
   "outputs": [
    {
     "name": "stdout",
     "output_type": "stream",
     "text": [
      " | | \n",
      "-----\n",
      " | | \n",
      "-----\n",
      " | | \n",
      "-----\n"
     ]
    },
    {
     "name": "stdin",
     "output_type": "stream",
     "text": [
      "Player 1 (X), enter your move (row col):  1 1\n"
     ]
    },
    {
     "name": "stdout",
     "output_type": "stream",
     "text": [
      " | | \n",
      "-----\n",
      " |X| \n",
      "-----\n",
      " | | \n",
      "-----\n"
     ]
    },
    {
     "name": "stdin",
     "output_type": "stream",
     "text": [
      "Player 2 (O), enter your move (row col):  0 0\n"
     ]
    },
    {
     "name": "stdout",
     "output_type": "stream",
     "text": [
      "O| | \n",
      "-----\n",
      " |X| \n",
      "-----\n",
      " | | \n",
      "-----\n"
     ]
    },
    {
     "name": "stdin",
     "output_type": "stream",
     "text": [
      "Player 1 (X), enter your move (row col):  2 1\n"
     ]
    },
    {
     "name": "stdout",
     "output_type": "stream",
     "text": [
      "O| | \n",
      "-----\n",
      " |X| \n",
      "-----\n",
      " |X| \n",
      "-----\n"
     ]
    },
    {
     "name": "stdin",
     "output_type": "stream",
     "text": [
      "Player 2 (O), enter your move (row col):  0 1\n"
     ]
    },
    {
     "name": "stdout",
     "output_type": "stream",
     "text": [
      "O|O| \n",
      "-----\n",
      " |X| \n",
      "-----\n",
      " |X| \n",
      "-----\n"
     ]
    },
    {
     "name": "stdin",
     "output_type": "stream",
     "text": [
      "Player 1 (X), enter your move (row col):  0 2\n"
     ]
    },
    {
     "name": "stdout",
     "output_type": "stream",
     "text": [
      "O|O|X\n",
      "-----\n",
      " |X| \n",
      "-----\n",
      " |X| \n",
      "-----\n"
     ]
    },
    {
     "name": "stdin",
     "output_type": "stream",
     "text": [
      "Player 2 (O), enter your move (row col):  2 1\n"
     ]
    },
    {
     "name": "stdout",
     "output_type": "stream",
     "text": [
      "Invalid move, try again.\n"
     ]
    },
    {
     "name": "stdin",
     "output_type": "stream",
     "text": [
      "Player 2 (O), enter your move (row col):  2 0\n"
     ]
    },
    {
     "name": "stdout",
     "output_type": "stream",
     "text": [
      "O|O|X\n",
      "-----\n",
      " |X| \n",
      "-----\n",
      "O|X| \n",
      "-----\n"
     ]
    }
   ],
   "source": [
    "class Board:\n",
    "    def __init__(self):\n",
    "        self.board = [[' ' for _ in range(3)] for _ in range(3)]\n",
    "\n",
    "    def print_board(self):\n",
    "        for row in self.board:\n",
    "            print('|'.join(row))\n",
    "            print('-' * 5)\n",
    "\n",
    "    def place_mark(self, row, col, mark):\n",
    "        if self.board[row][col] == ' ':\n",
    "            self.board[row][col] = mark\n",
    "            return True\n",
    "        return False\n",
    "\n",
    "    def is_full(self):\n",
    "        for row in self.board:\n",
    "            if ' ' in row:\n",
    "                return False\n",
    "        return True\n",
    "\n",
    "    def check_winner(self):\n",
    "        # Check rows, columns and diagonals\n",
    "        for row in self.board:\n",
    "            if row[0] == row[1] == row[2] != ' ':\n",
    "                return True\n",
    "        for col in range(3):\n",
    "            if self.board[0][col] == self.board[1][col] == self.board[2][col] != ' ':\n",
    "                return True\n",
    "        if self.board[0][0] == self.board[1][1] == self.board[2][2] != ' ':\n",
    "            return True\n",
    "        if self.board[0][2] == self.board[1][1] == self.board[2][0] != ' ':\n",
    "            return True\n",
    "        return False\n",
    "\n",
    "class Player:\n",
    "    def __init__(self, name, mark):\n",
    "        self.name = name\n",
    "        self.mark = mark\n",
    "\n",
    "    def make_move(self, board):\n",
    "        while True:\n",
    "            try:\n",
    "                row, col = map(int, input(f\"{self.name} ({self.mark}), enter your move (row col): \").split())\n",
    "                if row >= 0 and col >= 0 and row < 3 and col < 3 and board.place_mark(row, col, self.mark):\n",
    "                    break\n",
    "                else:\n",
    "                    print(\"Invalid move, try again.\")\n",
    "            except ValueError:\n",
    "                print(\"Please enter valid row and column.\")\n",
    "\n",
    "class Game:\n",
    "    def __init__(self):\n",
    "        self.board = Board()\n",
    "        self.players = [Player(\"Player 1\", \"X\"), Player(\"Player 2\", \"O\")]\n",
    "        self.current_player = 0\n",
    "\n",
    "    def start_game(self):\n",
    "        while not self.board.is_full():\n",
    "            self.board.print_board()\n",
    "            self.players[self.current_player].make_move(self.board)\n",
    "            if self.board.check_winner():\n",
    "                self.board.print_board()\n",
    "                print(f\"{self.players[self.current_player].name} wins!\")\n",
    "                return\n",
    "            self.current_player = 1 - self.current_player\n",
    "        self.board.print_board()\n",
    "        print(\"It's a draw!\")\n",
    "\n",
    "# Run the game\n",
    "game = Game()\n",
    "game.start_game()\n"
   ]
  },
  {
   "cell_type": "code",
   "execution_count": null,
   "id": "6532ed05-bf0d-4721-ba7d-539259cf1427",
   "metadata": {},
   "outputs": [],
   "source": []
  }
 ],
 "metadata": {
  "kernelspec": {
   "display_name": "Python 3 (ipykernel)",
   "language": "python",
   "name": "python3"
  },
  "language_info": {
   "codemirror_mode": {
    "name": "ipython",
    "version": 3
   },
   "file_extension": ".py",
   "mimetype": "text/x-python",
   "name": "python",
   "nbconvert_exporter": "python",
   "pygments_lexer": "ipython3",
   "version": "3.12.4"
  }
 },
 "nbformat": 4,
 "nbformat_minor": 5
}
